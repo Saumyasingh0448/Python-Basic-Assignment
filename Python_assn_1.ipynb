{
  "nbformat": 4,
  "nbformat_minor": 0,
  "metadata": {
    "colab": {
      "provenance": []
    },
    "kernelspec": {
      "name": "python3",
      "display_name": "Python 3"
    },
    "language_info": {
      "name": "python"
    }
  },
  "cells": [
    {
      "cell_type": "markdown",
      "source": [
        "# **Python**"
      ],
      "metadata": {
        "id": "0njsnpBL8hqO"
      }
    },
    {
      "cell_type": "markdown",
      "source": [
        "1.  What is Python, and why is it popular?\n",
        "   \n",
        "    -Python is a programming language that is easy to understand and write,\n",
        "     that's why it is popular choice among developers and programmers.\n",
        "\n",
        "2.  What is an interpreter in Python?\n",
        "   \n",
        "    -A python interpreter is a computer program that converts each high-level\n",
        "     program statement into machine code.\n",
        "\n",
        "3.  What are pre-defined keywords in Python?\n",
        "   \n",
        "    -Predefined keywords in Python are words that have a specific meaning and\n",
        "     are reserved for use in Python programs.\n",
        "\n",
        "4.  Can keywords be used as variable name?\n",
        "   \n",
        "    -Keywords cannot be used as variable names because they are reserved  \n",
        "     words that define the structure and syntax of a programming language.\n",
        "\n",
        "5.  What is mutability in Python?\n",
        "   \n",
        "    -Mutability is the ability of an object to change after it has been  \n",
        "     created. Mutable objects can be modified in place, meaning that the  original object is changed, not a new object.\n",
        "6.  Why are lists mutable, but tuples are immutable?\n",
        "   \n",
        "    -The difference between tuples and lists is that tuples are immutable,\n",
        "     meaning their contents cannot be changed after creation, while lists are mutable and can be modified. Tuples are more memory-efficient compared to lists ,Tuples can't be changed after they're created, but lists can be modified.\n",
        "7.  What is the difference between “==” and “is” operators in Python?\n",
        "   \n",
        "    -The == operator helps us compare the equality of objects. The is operator\n",
        "     helps us check whether different variables point towards a similar object in the memory.\n",
        "\n",
        "8.  What are logical operators in Python?\n",
        "   \n",
        "    -Logical operators in Python are keywords that connect and evaluate  \n",
        "     multiple conditions in a single expression.\n",
        "\n",
        "9.  What is type casting in Python?\n",
        "   \n",
        "    -Type casting is the process of changing a variable's data type to another\n",
        "     data type in Python.\n",
        "\n",
        "10. What is the difference between implicit and explicit type casting?\n",
        "   \n",
        "    -Explicit type conversion in programming is done manually by the  \n",
        "     programmer, while implicit conversion is handled automatically by the compiler.\n",
        "\n",
        "11. What is the purpose of conditional statements in Python?\n",
        "   \n",
        "    -Conditional statements in Python control the flow of a program by  \n",
        "     executing code based on certain conditions. Conditional Statement in python are IF Statement, ELSE Statement, ELIF Statement.\n",
        "\n",
        "12. How does the elif statement work?\n",
        "\n",
        "    -The “elif” keyword in Python, stands for “else if”. It can be used in\n",
        "     conditional statements to check for multiple conditions. For example, if  the first condition is false, it moves on to the next “elif” statement to check if that condition is true.\n",
        "\n",
        "13. What is the difference between for and while loops?\n",
        "\n",
        "    -The main difference between a for loop and a while loop is that a\n",
        "     for loop  is used when you know how many times to repeat a block of code, while a  while loop is used when you don't know how many times.\n",
        "\n",
        "14. Describe a scenario where a while loop is more suitable than a for loop?\n",
        "\n",
        "    -A while loop is particularly useful when you do not know before how\n",
        "     many times you want to repeat the execution of your code. It will keep executing as long as a specified condition is true. This makes it ideal for cases where you want to continue looping until specific criteria are met.\n",
        ""
      ],
      "metadata": {
        "id": "p-MW9H7F82yP"
      }
    },
    {
      "cell_type": "code",
      "execution_count": null,
      "metadata": {
        "id": "HaCa-lnZ4R9C"
      },
      "outputs": [],
      "source": []
    },
    {
      "cell_type": "markdown",
      "source": [
        "# **Practical Questions**\n"
      ],
      "metadata": {
        "id": "8KfEfC0qF0MI"
      }
    },
    {
      "cell_type": "code",
      "source": [
        "# 1. Write a Python program to print \"Hello, World! ?\n",
        "print(\"Hello, World!\")\n"
      ],
      "metadata": {
        "colab": {
          "base_uri": "https://localhost:8080/"
        },
        "id": "RV22ScUYF_Bq",
        "outputId": "7a0f2260-2680-42fb-83af-34b1261c9224"
      },
      "execution_count": 5,
      "outputs": [
        {
          "output_type": "stream",
          "name": "stdout",
          "text": [
            "Hello, World!\n"
          ]
        }
      ]
    },
    {
      "cell_type": "code",
      "source": [
        "# 2. Write a Python program that displays your name and age?\n",
        "print(\"My name is Saumya Singh and age is 23\")\n"
      ],
      "metadata": {
        "colab": {
          "base_uri": "https://localhost:8080/"
        },
        "id": "0RHgiwnrGT3Z",
        "outputId": "c03e707f-f2b2-4239-f2a7-19af82ea4a7b"
      },
      "execution_count": 6,
      "outputs": [
        {
          "output_type": "stream",
          "name": "stdout",
          "text": [
            "My name is Saumya Singh and age is 23\n"
          ]
        }
      ]
    },
    {
      "cell_type": "code",
      "source": [
        "# 3. Write code to print all the pre-defined keywords in Python using the keyword library?\n",
        "import keyword\n",
        "print(keyword.kwlist)\n"
      ],
      "metadata": {
        "colab": {
          "base_uri": "https://localhost:8080/"
        },
        "id": "TbMZ1qtTG_up",
        "outputId": "6edf3fe0-8813-4b80-a1b1-cd9cf86373c7"
      },
      "execution_count": 7,
      "outputs": [
        {
          "output_type": "stream",
          "name": "stdout",
          "text": [
            "['False', 'None', 'True', 'and', 'as', 'assert', 'async', 'await', 'break', 'class', 'continue', 'def', 'del', 'elif', 'else', 'except', 'finally', 'for', 'from', 'global', 'if', 'import', 'in', 'is', 'lambda', 'nonlocal', 'not', 'or', 'pass', 'raise', 'return', 'try', 'while', 'with', 'yield']\n"
          ]
        }
      ]
    },
    {
      "cell_type": "code",
      "source": [
        "# 4.  Write a program that checks if a given word is a Python keyword?\n",
        "import keyword\n",
        "\n",
        "def check_keyword(word):\n",
        "    if keyword.iskeyword(word):\n",
        "        print(f\"'{word}' is a Python keyword.\")\n",
        "    else:\n",
        "        print(f\"'{word}' is NOT a Python keyword.\")\n",
        "\n",
        "word = input(\"Enter a word: \")\n",
        "check_keyword(word)\n"
      ],
      "metadata": {
        "colab": {
          "base_uri": "https://localhost:8080/"
        },
        "id": "_yqSNEuwH2a0",
        "outputId": "72a39642-01d6-4b9b-ffb8-542a45183da6"
      },
      "execution_count": 8,
      "outputs": [
        {
          "output_type": "stream",
          "name": "stdout",
          "text": [
            "Enter a word: as\n",
            "'as' is a Python keyword.\n"
          ]
        }
      ]
    },
    {
      "cell_type": "code",
      "source": [
        "# 5. Create a list and tuple in Python, and demonstrate how attempting to change an element works differently\n",
        "     for each?\n",
        "my_list = [1, 2, 3, 4, 5]\n",
        "print(\"Original List:\", my_list)\n",
        "\n",
        "\n",
        "my_list[2] = 99\n",
        "print(\"Modified List:\", my_list)\n",
        "\n",
        "\n",
        "my_tuple = (1, 2, 3, 4, 5)\n",
        "print(\"\\nOriginal Tuple:\", my_tuple)\n",
        "\n"
      ],
      "metadata": {
        "id": "pQgHy6I1ILjj"
      },
      "execution_count": 8,
      "outputs": []
    },
    {
      "cell_type": "code",
      "source": [
        "# 6. Write a function to demonstrate the behavior of mutable and immutable arguments?\n",
        "def modify(x, y):\n",
        "    x += 1\n",
        "    y.append(4)\n",
        "    print(\"Inside function:\", x, y)\n",
        "\n",
        "num = 5\n",
        "lst = [1, 2, 3]\n",
        "\n",
        "modify(num, lst)\n",
        "\n",
        "print(\"Outside function:\", num, lst)\n"
      ],
      "metadata": {
        "colab": {
          "base_uri": "https://localhost:8080/"
        },
        "id": "OSGvHwHLBDF_",
        "outputId": "2ee320b6-3824-40b1-aef7-97416dda3a1c"
      },
      "execution_count": 1,
      "outputs": [
        {
          "output_type": "stream",
          "name": "stdout",
          "text": [
            "Inside function: 6 [1, 2, 3, 4]\n",
            "Outside function: 5 [1, 2, 3, 4]\n"
          ]
        }
      ]
    },
    {
      "cell_type": "code",
      "source": [
        "# 7. Question no 7 is same as 6."
      ],
      "metadata": {
        "id": "421hPPXyBeyM"
      },
      "execution_count": null,
      "outputs": []
    },
    {
      "cell_type": "code",
      "source": [
        "# 8. Write a program to demonstrate the use of logical operators?\n",
        "x = 10\n",
        "y = 5\n",
        "\n",
        "print(x > 5 and y < 10)\n",
        "print(x < 5 or y < 10)\n",
        "print(not (x > 5))\n"
      ],
      "metadata": {
        "colab": {
          "base_uri": "https://localhost:8080/"
        },
        "id": "DBrPSV99B4Ge",
        "outputId": "ea417938-a760-4158-d109-c14ca4b3f396"
      },
      "execution_count": 2,
      "outputs": [
        {
          "output_type": "stream",
          "name": "stdout",
          "text": [
            "True\n",
            "True\n",
            "False\n"
          ]
        }
      ]
    },
    {
      "cell_type": "code",
      "source": [
        "# 9.  Write a Python program to convert user input from string to integer, float, and boolean types?\n",
        "x = input(\"Enter a value: \")\n",
        "\n",
        "print(\"Integer:\", int(x))\n",
        "print(\"Float:\", float(x))\n",
        "print(\"Boolean:\", bool(x))\n"
      ],
      "metadata": {
        "colab": {
          "base_uri": "https://localhost:8080/"
        },
        "id": "nZwJKKalD8fK",
        "outputId": "bac7e674-f50d-473e-f16f-5c82052cd8dd"
      },
      "execution_count": 3,
      "outputs": [
        {
          "output_type": "stream",
          "name": "stdout",
          "text": [
            "Enter a value: 5\n",
            "Integer: 5\n",
            "Float: 5.0\n",
            "Boolean: True\n"
          ]
        }
      ]
    },
    {
      "cell_type": "code",
      "source": [
        "# 10. Write code to demonstrate type casting with list elements?\n",
        "str_list = [\"1\", \"2\", \"3\", \"4\"]\n",
        "int_list = list(map(int, str_list))\n",
        "\n",
        "print(\"Original List:\", str_list)\n",
        "print(\"Converted List (int):\", int_list)\n"
      ],
      "metadata": {
        "colab": {
          "base_uri": "https://localhost:8080/"
        },
        "id": "tSK8KBpOEXrC",
        "outputId": "77a52663-3679-4afb-9381-17fe5489be19"
      },
      "execution_count": 4,
      "outputs": [
        {
          "output_type": "stream",
          "name": "stdout",
          "text": [
            "Original List: ['1', '2', '3', '4']\n",
            "Converted List (int): [1, 2, 3, 4]\n"
          ]
        }
      ]
    },
    {
      "cell_type": "code",
      "source": [
        "# 11. Write a program that checks if a number is positive, negative, or zero?\n",
        "num = float(input(\"Enter a number: \"))\n",
        "print(\"Positive\" if num > 0 else \"Negative\" if num < 0 else \"Zero\")\n"
      ],
      "metadata": {
        "colab": {
          "base_uri": "https://localhost:8080/"
        },
        "id": "KX_iKHP5ExZs",
        "outputId": "01deea7d-7c4f-4863-b5d3-c2d62006ff02"
      },
      "execution_count": 5,
      "outputs": [
        {
          "output_type": "stream",
          "name": "stdout",
          "text": [
            "Enter a number: 5\n",
            "Positive\n"
          ]
        }
      ]
    },
    {
      "cell_type": "code",
      "source": [
        "# 12. Write a for loop to print numbers from 1 to 100?\n",
        "for i in range(1, 101):\n",
        "    print(i)\n"
      ],
      "metadata": {
        "colab": {
          "base_uri": "https://localhost:8080/"
        },
        "id": "M37xdVdaFC6u",
        "outputId": "8cf4f321-6715-464c-867d-476abe3a1354"
      },
      "execution_count": 6,
      "outputs": [
        {
          "output_type": "stream",
          "name": "stdout",
          "text": [
            "1\n",
            "2\n",
            "3\n",
            "4\n",
            "5\n",
            "6\n",
            "7\n",
            "8\n",
            "9\n",
            "10\n",
            "11\n",
            "12\n",
            "13\n",
            "14\n",
            "15\n",
            "16\n",
            "17\n",
            "18\n",
            "19\n",
            "20\n",
            "21\n",
            "22\n",
            "23\n",
            "24\n",
            "25\n",
            "26\n",
            "27\n",
            "28\n",
            "29\n",
            "30\n",
            "31\n",
            "32\n",
            "33\n",
            "34\n",
            "35\n",
            "36\n",
            "37\n",
            "38\n",
            "39\n",
            "40\n",
            "41\n",
            "42\n",
            "43\n",
            "44\n",
            "45\n",
            "46\n",
            "47\n",
            "48\n",
            "49\n",
            "50\n",
            "51\n",
            "52\n",
            "53\n",
            "54\n",
            "55\n",
            "56\n",
            "57\n",
            "58\n",
            "59\n",
            "60\n",
            "61\n",
            "62\n",
            "63\n",
            "64\n",
            "65\n",
            "66\n",
            "67\n",
            "68\n",
            "69\n",
            "70\n",
            "71\n",
            "72\n",
            "73\n",
            "74\n",
            "75\n",
            "76\n",
            "77\n",
            "78\n",
            "79\n",
            "80\n",
            "81\n",
            "82\n",
            "83\n",
            "84\n",
            "85\n",
            "86\n",
            "87\n",
            "88\n",
            "89\n",
            "90\n",
            "91\n",
            "92\n",
            "93\n",
            "94\n",
            "95\n",
            "96\n",
            "97\n",
            "98\n",
            "99\n",
            "100\n"
          ]
        }
      ]
    },
    {
      "cell_type": "code",
      "source": [
        "# 13.  Write a Python program to find the sum of all even numbers between 1 and 500?\n",
        "sum_even = sum(range(2, 501, 2))\n",
        "print(\"Sum of even numbers from 1 to 500:\", sum_even)\n"
      ],
      "metadata": {
        "colab": {
          "base_uri": "https://localhost:8080/"
        },
        "id": "Q5ocBnOrFOzD",
        "outputId": "5d701b2e-837a-4d93-aa8a-87cc4e149370"
      },
      "execution_count": 7,
      "outputs": [
        {
          "output_type": "stream",
          "name": "stdout",
          "text": [
            "Sum of even numbers from 1 to 500: 62750\n"
          ]
        }
      ]
    },
    {
      "cell_type": "code",
      "source": [
        "# 14 . Write a program to reverse a string using a while loop?\n",
        "s = input(\"Enter a string: \")\n",
        "rev_str = \"\"\n",
        "i = len(s) - 1\n",
        "while i >= 0:\n",
        "    rev_str += s[i]\n",
        "    i -= 1\n",
        "\n",
        "print(\"Reversed string:\", rev_str)\n"
      ],
      "metadata": {
        "colab": {
          "base_uri": "https://localhost:8080/"
        },
        "id": "WDZhNZtFFizP",
        "outputId": "fd723856-71ec-4602-f40d-d89073cf12eb"
      },
      "execution_count": 8,
      "outputs": [
        {
          "output_type": "stream",
          "name": "stdout",
          "text": [
            "Enter a string: sa\n",
            "Reversed string: as\n"
          ]
        }
      ]
    },
    {
      "cell_type": "code",
      "source": [
        "# 15 .  Write a Python program to calculate the factorial of a number provided by the user using a while loop.\n",
        "# Get user input\n",
        "num = int(input(\"Enter a number: \"))\n",
        "fact = 1\n",
        "i = num\n",
        "while i > 0:\n",
        "    fact *= i\n",
        "    i -= 1\n",
        "\n",
        "print(\"Factorial of\", num, \"is:\", fact)\n"
      ],
      "metadata": {
        "colab": {
          "base_uri": "https://localhost:8080/"
        },
        "id": "vkaDLoOsF21G",
        "outputId": "e4ea7663-429f-42ca-e72c-25d653a22ca9"
      },
      "execution_count": 9,
      "outputs": [
        {
          "output_type": "stream",
          "name": "stdout",
          "text": [
            "Enter a number: 25\n",
            "Factorial of 25 is: 15511210043330985984000000\n"
          ]
        }
      ]
    },
    {
      "cell_type": "code",
      "source": [],
      "metadata": {
        "id": "qjRxPOT5GHCM"
      },
      "execution_count": null,
      "outputs": []
    }
  ]
}